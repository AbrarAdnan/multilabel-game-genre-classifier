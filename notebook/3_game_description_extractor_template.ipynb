{
 "cells": [
  {
   "cell_type": "code",
   "execution_count": 1,
   "id": "5433fbaa",
   "metadata": {},
   "outputs": [],
   "source": [
    "# Import the requrired librarires\n",
    "from selenium import webdriver\n",
    "from selenium.webdriver.common.by import By\n",
    "import pandas as pd\n",
    "import time,os\n",
    "#from tqdm import tqdm_notebook\n",
    "from tqdm import tqdm"
   ]
  },
  {
   "cell_type": "code",
   "execution_count": 2,
   "id": "807719bf",
   "metadata": {},
   "outputs": [
    {
     "name": "stdout",
     "output_type": "stream",
     "text": [
      "C:\\Users\\Adnan\\Desktop\\Data Science\\Week 13\\NLP Project\n"
     ]
    }
   ],
   "source": [
    "# Enter the file name to get the links from and the file name to save the scraped descriptions\n",
    "# Modify this cell to download from various platforms\n",
    "%cd ..\n",
    "merged_df = pd.read_csv('datasets/platform_url_merged/switch_merged.csv')\n",
    "save_file_name = 'switch_description'\n",
    "# Go up a directory"
   ]
  },
  {
   "cell_type": "code",
   "execution_count": 3,
   "id": "94e97dc1",
   "metadata": {},
   "outputs": [
    {
     "data": {
      "text/html": [
       "<div>\n",
       "<style scoped>\n",
       "    .dataframe tbody tr th:only-of-type {\n",
       "        vertical-align: middle;\n",
       "    }\n",
       "\n",
       "    .dataframe tbody tr th {\n",
       "        vertical-align: top;\n",
       "    }\n",
       "\n",
       "    .dataframe thead th {\n",
       "        text-align: right;\n",
       "    }\n",
       "</style>\n",
       "<table border=\"1\" class=\"dataframe\">\n",
       "  <thead>\n",
       "    <tr style=\"text-align: right;\">\n",
       "      <th></th>\n",
       "      <th>title</th>\n",
       "      <th>url</th>\n",
       "    </tr>\n",
       "  </thead>\n",
       "  <tbody>\n",
       "    <tr>\n",
       "      <th>0</th>\n",
       "      <td>#1 Anagrams (Switch)</td>\n",
       "      <td>https://www.metacritic.com/game/switch/1-anagrams</td>\n",
       "    </tr>\n",
       "    <tr>\n",
       "      <th>1</th>\n",
       "      <td>#1 Crosswords (Switch)</td>\n",
       "      <td>https://www.metacritic.com/game/switch/1-cross...</td>\n",
       "    </tr>\n",
       "    <tr>\n",
       "      <th>2</th>\n",
       "      <td>#1 Sudokus (Switch)</td>\n",
       "      <td>https://www.metacritic.com/game/switch/1-sudokus</td>\n",
       "    </tr>\n",
       "    <tr>\n",
       "      <th>3</th>\n",
       "      <td>#Breakforcist Battle (Switch)</td>\n",
       "      <td>https://www.metacritic.com/game/switch/breakfo...</td>\n",
       "    </tr>\n",
       "    <tr>\n",
       "      <th>4</th>\n",
       "      <td>#DRIVE (Switch)</td>\n",
       "      <td>https://www.metacritic.com/game/switch/drive</td>\n",
       "    </tr>\n",
       "    <tr>\n",
       "      <th>5</th>\n",
       "      <td>#Funtime (Switch)</td>\n",
       "      <td>https://www.metacritic.com/game/switch/funtime</td>\n",
       "    </tr>\n",
       "    <tr>\n",
       "      <th>6</th>\n",
       "      <td>#Halloween, Super Puzzles Dream (Switch)</td>\n",
       "      <td>https://www.metacritic.com/game/switch/hallowe...</td>\n",
       "    </tr>\n",
       "    <tr>\n",
       "      <th>7</th>\n",
       "      <td>#KILLALLZOMBIES (Switch)</td>\n",
       "      <td>https://www.metacritic.com/game/switch/killall...</td>\n",
       "    </tr>\n",
       "    <tr>\n",
       "      <th>8</th>\n",
       "      <td>#NoLimitFantasy, Super Puzzles Dream (Switch)</td>\n",
       "      <td>https://www.metacritic.com/game/switch/nolimit...</td>\n",
       "    </tr>\n",
       "    <tr>\n",
       "      <th>9</th>\n",
       "      <td>#pinocchio, Super Puzzles Dream (Switch)</td>\n",
       "      <td>https://www.metacritic.com/game/switch/pinocch...</td>\n",
       "    </tr>\n",
       "  </tbody>\n",
       "</table>\n",
       "</div>"
      ],
      "text/plain": [
       "                                           title  \\\n",
       "0                           #1 Anagrams (Switch)   \n",
       "1                         #1 Crosswords (Switch)   \n",
       "2                            #1 Sudokus (Switch)   \n",
       "3                  #Breakforcist Battle (Switch)   \n",
       "4                                #DRIVE (Switch)   \n",
       "5                              #Funtime (Switch)   \n",
       "6       #Halloween, Super Puzzles Dream (Switch)   \n",
       "7                       #KILLALLZOMBIES (Switch)   \n",
       "8  #NoLimitFantasy, Super Puzzles Dream (Switch)   \n",
       "9       #pinocchio, Super Puzzles Dream (Switch)   \n",
       "\n",
       "                                                 url  \n",
       "0  https://www.metacritic.com/game/switch/1-anagrams  \n",
       "1  https://www.metacritic.com/game/switch/1-cross...  \n",
       "2   https://www.metacritic.com/game/switch/1-sudokus  \n",
       "3  https://www.metacritic.com/game/switch/breakfo...  \n",
       "4       https://www.metacritic.com/game/switch/drive  \n",
       "5     https://www.metacritic.com/game/switch/funtime  \n",
       "6  https://www.metacritic.com/game/switch/hallowe...  \n",
       "7  https://www.metacritic.com/game/switch/killall...  \n",
       "8  https://www.metacritic.com/game/switch/nolimit...  \n",
       "9  https://www.metacritic.com/game/switch/pinocch...  "
      ]
     },
     "execution_count": 3,
     "metadata": {},
     "output_type": "execute_result"
    }
   ],
   "source": [
    "# Have a peek at the source file\n",
    "merged_df.head(10)"
   ]
  },
  {
   "cell_type": "code",
   "execution_count": 4,
   "id": "3b73cdfa",
   "metadata": {},
   "outputs": [
    {
     "data": {
      "text/plain": [
       "9641"
      ]
     },
     "execution_count": 4,
     "metadata": {},
     "output_type": "execute_result"
    }
   ],
   "source": [
    "len(merged_df)"
   ]
  },
  {
   "cell_type": "code",
   "execution_count": 5,
   "id": "3740fb2a",
   "metadata": {},
   "outputs": [],
   "source": [
    "# Funciton to scrape the details from each link\n",
    "def get_data(driver,title,url):\n",
    "    try:\n",
    "        driver.get(url)\n",
    "    except:\n",
    "        driver = web_driver()\n",
    "        driver.get(url)\n",
    "    try:\n",
    "        name = driver.find_element(By.CSS_SELECTOR,'div.product_title > a:nth-child(1) > h1:nth-child(1)')\n",
    "        title = name.text\n",
    "    except:\n",
    "        title = 'N/A'\n",
    "    try:\n",
    "        meta_score_element = driver.find_element(By.CSS_SELECTOR,'.xlarge > span:nth-child(3)')\n",
    "        meta_score = meta_score_element.text\n",
    "    except:\n",
    "        meta_score = 'N/A'\n",
    "    try:\n",
    "        user_score_element = driver.find_element(By.CSS_SELECTOR,'div.large:nth-child(1)')\n",
    "        user_score = user_score_element.text\n",
    "    except:\n",
    "        user_score = 'N/A'\n",
    "    try:\n",
    "        developer_element = driver.find_element(By.CSS_SELECTOR,'.button')\n",
    "        developer = developer_element.text\n",
    "    except:\n",
    "        developer = 'N/A'\n",
    "    try:\n",
    "        platform_element = driver.find_element(By.CSS_SELECTOR,'.platform > a:nth-child(1)')\n",
    "        platform = platform_element.text\n",
    "    except:\n",
    "        platform = 'N/A'\n",
    "    try:\n",
    "        toggle = driver.find_element(By.CSS_SELECTOR,'.product_summary > span:nth-child(2) > span:nth-child(1) > span:nth-child(4)')\n",
    "        if toggle.text == \"Expand\":\n",
    "            toggle.click()\n",
    "    except:\n",
    "        pass\n",
    "    try:\n",
    "        summary = driver.find_element(By.CSS_SELECTOR,'.product_summary > span:nth-child(2) > span:nth-child(1) > span:nth-child(2)')\n",
    "        description = summary.text\n",
    "    except:\n",
    "        try:\n",
    "            summary = driver.find_element(By.CSS_SELECTOR,'.product_summary > span:nth-child(2) > span:nth-child(1)')\n",
    "            description = summary.text\n",
    "        except:\n",
    "            description = 'N/A'\n",
    "    try:\n",
    "        genre_list = driver.find_element(By.CSS_SELECTOR,'.product_genre')\n",
    "        genre = genre_list.text\n",
    "    except:\n",
    "        genre = 'N/A'\n",
    "    try:\n",
    "        release_date_element = driver.find_element(By.CSS_SELECTOR,'.release_data > span:nth-child(2)')\n",
    "        release_date = release_date_element.text\n",
    "    except:\n",
    "        release_date = 'N/A'\n",
    "    try:\n",
    "        rating_element = driver.find_element(By.CSS_SELECTOR,'li.summary_detail:nth-child(5) > span:nth-child(2)')\n",
    "        rating = rating_element.text\n",
    "    except:\n",
    "        rating = 'N/A'\n",
    "    return title, description, genre, meta_score, user_score, developer, platform, release_date, rating\n"
   ]
  },
  {
   "cell_type": "code",
   "execution_count": 6,
   "id": "bbc6e5af",
   "metadata": {},
   "outputs": [],
   "source": [
    "# driver = webdriver.Firefox()\n",
    "# Initialize the webdriver headlessly for faster scraping\n",
    "# options = webdriver.FirefoxOptions()\n",
    "# options.headless = True\n",
    "# driver = webdriver.Firefox(options=options)\n",
    "# driver.get('https://www.metacritic.com/game/xbox-one/ea-sports-ufc')\n",
    "def web_driver():\n",
    "    options = webdriver.FirefoxOptions()\n",
    "#     options.add_argument(\"--verbose\")\n",
    "    options.add_argument('--no-sandbox')\n",
    "    options.add_argument('--headless')\n",
    "    options.add_argument('--disable-gpu')\n",
    "    options.add_argument(\"--window-size=1920, 1200\")\n",
    "    options.add_argument('--disable-dev-shm-usage')\n",
    "    driver = webdriver.Firefox(options=options)\n",
    "    return driver"
   ]
  },
  {
   "cell_type": "code",
   "execution_count": 7,
   "id": "cb0d8fc1",
   "metadata": {},
   "outputs": [],
   "source": [
    "driver = web_driver()\n",
    "\n",
    "driver.get('https://www.google.com')"
   ]
  },
  {
   "cell_type": "code",
   "execution_count": 8,
   "id": "5686967a",
   "metadata": {},
   "outputs": [
    {
     "name": "stdout",
     "output_type": "stream",
     "text": [
      "starting from index = 401\n"
     ]
    }
   ],
   "source": [
    "# Check to see if any previous file has been saved to continue from there\n",
    "start_index = 0\n",
    "platform_data = []\n",
    "try:\n",
    "    # Try to read the previously saved csv file\n",
    "    df = pd.read_csv(f\"datasets/platform_description_merged/{save_file_name}.csv\")\n",
    "    # Get the index of the last row\n",
    "    start_index = df.index[-1] + 1\n",
    "    platform_data = df.to_dict('records')\n",
    "except FileNotFoundError:\n",
    "    # If the file doesn't exist, start from the first row\n",
    "    start_index = 0\n",
    "\n",
    "print('starting from index = ' + str(start_index))"
   ]
  },
  {
   "cell_type": "code",
   "execution_count": 9,
   "id": "639de321",
   "metadata": {},
   "outputs": [
    {
     "name": "stderr",
     "output_type": "stream",
     "text": [
      "  0%|                                                                             | 13/9240 [07:12<85:11:03, 33.24s/it]\n"
     ]
    },
    {
     "ename": "WebDriverException",
     "evalue": "Message: Failed to decode response from marionette\n",
     "output_type": "error",
     "traceback": [
      "\u001b[1;31m---------------------------------------------------------------------------\u001b[0m",
      "\u001b[1;31mInvalidSessionIdException\u001b[0m                 Traceback (most recent call last)",
      "Cell \u001b[1;32mIn[5], line 4\u001b[0m, in \u001b[0;36mget_data\u001b[1;34m(driver, title, url)\u001b[0m\n\u001b[0;32m      3\u001b[0m \u001b[38;5;28;01mtry\u001b[39;00m:\n\u001b[1;32m----> 4\u001b[0m     \u001b[43mdriver\u001b[49m\u001b[38;5;241;43m.\u001b[39;49m\u001b[43mget\u001b[49m\u001b[43m(\u001b[49m\u001b[43murl\u001b[49m\u001b[43m)\u001b[49m\n\u001b[0;32m      5\u001b[0m \u001b[38;5;28;01mexcept\u001b[39;00m:\n",
      "File \u001b[1;32m~\\Desktop\\Data Science\\Week 13\\NLP Project\\venv\\lib\\site-packages\\selenium\\webdriver\\remote\\webdriver.py:449\u001b[0m, in \u001b[0;36mWebDriver.get\u001b[1;34m(self, url)\u001b[0m\n\u001b[0;32m    448\u001b[0m \u001b[38;5;250m\u001b[39m\u001b[38;5;124;03m\"\"\"Loads a web page in the current browser session.\"\"\"\u001b[39;00m\n\u001b[1;32m--> 449\u001b[0m \u001b[38;5;28;43mself\u001b[39;49m\u001b[38;5;241;43m.\u001b[39;49m\u001b[43mexecute\u001b[49m\u001b[43m(\u001b[49m\u001b[43mCommand\u001b[49m\u001b[38;5;241;43m.\u001b[39;49m\u001b[43mGET\u001b[49m\u001b[43m,\u001b[49m\u001b[43m \u001b[49m\u001b[43m{\u001b[49m\u001b[38;5;124;43m\"\u001b[39;49m\u001b[38;5;124;43murl\u001b[39;49m\u001b[38;5;124;43m\"\u001b[39;49m\u001b[43m:\u001b[49m\u001b[43m \u001b[49m\u001b[43murl\u001b[49m\u001b[43m}\u001b[49m\u001b[43m)\u001b[49m\n",
      "File \u001b[1;32m~\\Desktop\\Data Science\\Week 13\\NLP Project\\venv\\lib\\site-packages\\selenium\\webdriver\\remote\\webdriver.py:440\u001b[0m, in \u001b[0;36mWebDriver.execute\u001b[1;34m(self, driver_command, params)\u001b[0m\n\u001b[0;32m    439\u001b[0m \u001b[38;5;28;01mif\u001b[39;00m response:\n\u001b[1;32m--> 440\u001b[0m     \u001b[38;5;28;43mself\u001b[39;49m\u001b[38;5;241;43m.\u001b[39;49m\u001b[43merror_handler\u001b[49m\u001b[38;5;241;43m.\u001b[39;49m\u001b[43mcheck_response\u001b[49m\u001b[43m(\u001b[49m\u001b[43mresponse\u001b[49m\u001b[43m)\u001b[49m\n\u001b[0;32m    441\u001b[0m     response[\u001b[38;5;124m\"\u001b[39m\u001b[38;5;124mvalue\u001b[39m\u001b[38;5;124m\"\u001b[39m] \u001b[38;5;241m=\u001b[39m \u001b[38;5;28mself\u001b[39m\u001b[38;5;241m.\u001b[39m_unwrap_value(response\u001b[38;5;241m.\u001b[39mget(\u001b[38;5;124m\"\u001b[39m\u001b[38;5;124mvalue\u001b[39m\u001b[38;5;124m\"\u001b[39m, \u001b[38;5;28;01mNone\u001b[39;00m))\n",
      "File \u001b[1;32m~\\Desktop\\Data Science\\Week 13\\NLP Project\\venv\\lib\\site-packages\\selenium\\webdriver\\remote\\errorhandler.py:245\u001b[0m, in \u001b[0;36mErrorHandler.check_response\u001b[1;34m(self, response)\u001b[0m\n\u001b[0;32m    244\u001b[0m     \u001b[38;5;28;01mraise\u001b[39;00m exception_class(message, screen, stacktrace, alert_text)  \u001b[38;5;66;03m# type: ignore[call-arg]  # mypy is not smart enough here\u001b[39;00m\n\u001b[1;32m--> 245\u001b[0m \u001b[38;5;28;01mraise\u001b[39;00m exception_class(message, screen, stacktrace)\n",
      "\u001b[1;31mInvalidSessionIdException\u001b[0m: Message: Tried to run command without establishing a connection\n",
      "\nDuring handling of the above exception, another exception occurred:\n",
      "\u001b[1;31mWebDriverException\u001b[0m                        Traceback (most recent call last)",
      "Cell \u001b[1;32mIn[9], line 8\u001b[0m\n\u001b[0;32m      6\u001b[0m title \u001b[38;5;241m=\u001b[39m row[\u001b[38;5;124m'\u001b[39m\u001b[38;5;124mtitle\u001b[39m\u001b[38;5;124m'\u001b[39m]\n\u001b[0;32m      7\u001b[0m \u001b[38;5;66;03m# do your processing with the URL\u001b[39;00m\n\u001b[1;32m----> 8\u001b[0m title, description, genre, meta_score, user_score, developer, platform, release_date, rating \u001b[38;5;241m=\u001b[39m \u001b[43mget_data\u001b[49m\u001b[43m(\u001b[49m\u001b[43mdriver\u001b[49m\u001b[43m,\u001b[49m\u001b[43mtitle\u001b[49m\u001b[43m,\u001b[49m\u001b[43murl\u001b[49m\u001b[43m)\u001b[49m\n\u001b[0;32m      9\u001b[0m platform_data\u001b[38;5;241m.\u001b[39mappend({\n\u001b[0;32m     10\u001b[0m     \u001b[38;5;124m'\u001b[39m\u001b[38;5;124mtitle\u001b[39m\u001b[38;5;124m'\u001b[39m: title,\n\u001b[0;32m     11\u001b[0m     \u001b[38;5;124m'\u001b[39m\u001b[38;5;124mdescription\u001b[39m\u001b[38;5;124m'\u001b[39m: description,\n\u001b[1;32m   (...)\u001b[0m\n\u001b[0;32m     18\u001b[0m     \u001b[38;5;124m'\u001b[39m\u001b[38;5;124mrating\u001b[39m\u001b[38;5;124m'\u001b[39m: rating\n\u001b[0;32m     19\u001b[0m })\n\u001b[0;32m     21\u001b[0m \u001b[38;5;66;03m# Save the data to the csv file every 100 iterations\u001b[39;00m\n",
      "Cell \u001b[1;32mIn[5], line 7\u001b[0m, in \u001b[0;36mget_data\u001b[1;34m(driver, title, url)\u001b[0m\n\u001b[0;32m      5\u001b[0m \u001b[38;5;28;01mexcept\u001b[39;00m:\n\u001b[0;32m      6\u001b[0m     driver \u001b[38;5;241m=\u001b[39m web_driver()\n\u001b[1;32m----> 7\u001b[0m     \u001b[43mdriver\u001b[49m\u001b[38;5;241;43m.\u001b[39;49m\u001b[43mget\u001b[49m\u001b[43m(\u001b[49m\u001b[43murl\u001b[49m\u001b[43m)\u001b[49m\n\u001b[0;32m      8\u001b[0m \u001b[38;5;28;01mtry\u001b[39;00m:\n\u001b[0;32m      9\u001b[0m     name \u001b[38;5;241m=\u001b[39m driver\u001b[38;5;241m.\u001b[39mfind_element(By\u001b[38;5;241m.\u001b[39mCSS_SELECTOR,\u001b[38;5;124m'\u001b[39m\u001b[38;5;124mdiv.product_title > a:nth-child(1) > h1:nth-child(1)\u001b[39m\u001b[38;5;124m'\u001b[39m)\n",
      "File \u001b[1;32m~\\Desktop\\Data Science\\Week 13\\NLP Project\\venv\\lib\\site-packages\\selenium\\webdriver\\remote\\webdriver.py:449\u001b[0m, in \u001b[0;36mWebDriver.get\u001b[1;34m(self, url)\u001b[0m\n\u001b[0;32m    447\u001b[0m \u001b[38;5;28;01mdef\u001b[39;00m \u001b[38;5;21mget\u001b[39m(\u001b[38;5;28mself\u001b[39m, url: \u001b[38;5;28mstr\u001b[39m) \u001b[38;5;241m-\u001b[39m\u001b[38;5;241m>\u001b[39m \u001b[38;5;28;01mNone\u001b[39;00m:\n\u001b[0;32m    448\u001b[0m \u001b[38;5;250m    \u001b[39m\u001b[38;5;124;03m\"\"\"Loads a web page in the current browser session.\"\"\"\u001b[39;00m\n\u001b[1;32m--> 449\u001b[0m     \u001b[38;5;28;43mself\u001b[39;49m\u001b[38;5;241;43m.\u001b[39;49m\u001b[43mexecute\u001b[49m\u001b[43m(\u001b[49m\u001b[43mCommand\u001b[49m\u001b[38;5;241;43m.\u001b[39;49m\u001b[43mGET\u001b[49m\u001b[43m,\u001b[49m\u001b[43m \u001b[49m\u001b[43m{\u001b[49m\u001b[38;5;124;43m\"\u001b[39;49m\u001b[38;5;124;43murl\u001b[39;49m\u001b[38;5;124;43m\"\u001b[39;49m\u001b[43m:\u001b[49m\u001b[43m \u001b[49m\u001b[43murl\u001b[49m\u001b[43m}\u001b[49m\u001b[43m)\u001b[49m\n",
      "File \u001b[1;32m~\\Desktop\\Data Science\\Week 13\\NLP Project\\venv\\lib\\site-packages\\selenium\\webdriver\\remote\\webdriver.py:440\u001b[0m, in \u001b[0;36mWebDriver.execute\u001b[1;34m(self, driver_command, params)\u001b[0m\n\u001b[0;32m    438\u001b[0m response \u001b[38;5;241m=\u001b[39m \u001b[38;5;28mself\u001b[39m\u001b[38;5;241m.\u001b[39mcommand_executor\u001b[38;5;241m.\u001b[39mexecute(driver_command, params)\n\u001b[0;32m    439\u001b[0m \u001b[38;5;28;01mif\u001b[39;00m response:\n\u001b[1;32m--> 440\u001b[0m     \u001b[38;5;28;43mself\u001b[39;49m\u001b[38;5;241;43m.\u001b[39;49m\u001b[43merror_handler\u001b[49m\u001b[38;5;241;43m.\u001b[39;49m\u001b[43mcheck_response\u001b[49m\u001b[43m(\u001b[49m\u001b[43mresponse\u001b[49m\u001b[43m)\u001b[49m\n\u001b[0;32m    441\u001b[0m     response[\u001b[38;5;124m\"\u001b[39m\u001b[38;5;124mvalue\u001b[39m\u001b[38;5;124m\"\u001b[39m] \u001b[38;5;241m=\u001b[39m \u001b[38;5;28mself\u001b[39m\u001b[38;5;241m.\u001b[39m_unwrap_value(response\u001b[38;5;241m.\u001b[39mget(\u001b[38;5;124m\"\u001b[39m\u001b[38;5;124mvalue\u001b[39m\u001b[38;5;124m\"\u001b[39m, \u001b[38;5;28;01mNone\u001b[39;00m))\n\u001b[0;32m    442\u001b[0m     \u001b[38;5;28;01mreturn\u001b[39;00m response\n",
      "File \u001b[1;32m~\\Desktop\\Data Science\\Week 13\\NLP Project\\venv\\lib\\site-packages\\selenium\\webdriver\\remote\\errorhandler.py:245\u001b[0m, in \u001b[0;36mErrorHandler.check_response\u001b[1;34m(self, response)\u001b[0m\n\u001b[0;32m    243\u001b[0m         alert_text \u001b[38;5;241m=\u001b[39m value[\u001b[38;5;124m\"\u001b[39m\u001b[38;5;124malert\u001b[39m\u001b[38;5;124m\"\u001b[39m]\u001b[38;5;241m.\u001b[39mget(\u001b[38;5;124m\"\u001b[39m\u001b[38;5;124mtext\u001b[39m\u001b[38;5;124m\"\u001b[39m)\n\u001b[0;32m    244\u001b[0m     \u001b[38;5;28;01mraise\u001b[39;00m exception_class(message, screen, stacktrace, alert_text)  \u001b[38;5;66;03m# type: ignore[call-arg]  # mypy is not smart enough here\u001b[39;00m\n\u001b[1;32m--> 245\u001b[0m \u001b[38;5;28;01mraise\u001b[39;00m exception_class(message, screen, stacktrace)\n",
      "\u001b[1;31mWebDriverException\u001b[0m: Message: Failed to decode response from marionette\n"
     ]
    }
   ],
   "source": [
    "# Start the scraping\n",
    "start = time.time()\n",
    "# iterate through all the rows\n",
    "for index, row in tqdm(merged_df.iloc[start_index:].iterrows(), total=merged_df.shape[0] - start_index):\n",
    "    url = row['url']\n",
    "    title = row['title']\n",
    "    # do your processing with the URL\n",
    "    title, description, genre, meta_score, user_score, developer, platform, release_date, rating = get_data(driver,title,url)\n",
    "    platform_data.append({\n",
    "        'title': title,\n",
    "        'description': description,\n",
    "        'genres': genre,\n",
    "        'meta_score' : meta_score,\n",
    "        'user_score' : user_score,\n",
    "        'developer' : developer,\n",
    "        'platform' : platform,\n",
    "        'release_date' : release_date,\n",
    "        'rating': rating\n",
    "    })\n",
    "\n",
    "    # Save the data to the csv file every 100 iterations\n",
    "    if index % 50 == 0:\n",
    "        df = pd.DataFrame(data=platform_data, columns=platform_data[0].keys())\n",
    "        df.to_csv(f\"datasets/platform_description_merged/{save_file_name}.csv\", index=False)\n",
    "        \n",
    "df = pd.DataFrame(data=platform_data, columns=platform_data[0].keys())\n",
    "df.to_csv(f\"datasets/platform_description_merged/{save_file_name}.csv\", index=False)\n",
    "\n",
    "end = time.time()\n",
    "print(end - start)\n",
    "driver.close()"
   ]
  },
  {
   "cell_type": "code",
   "execution_count": null,
   "id": "25d53988",
   "metadata": {},
   "outputs": [],
   "source": []
  }
 ],
 "metadata": {
  "kernelspec": {
   "display_name": "Python 3 (ipykernel)",
   "language": "python",
   "name": "python3"
  },
  "language_info": {
   "codemirror_mode": {
    "name": "ipython",
    "version": 3
   },
   "file_extension": ".py",
   "mimetype": "text/x-python",
   "name": "python",
   "nbconvert_exporter": "python",
   "pygments_lexer": "ipython3",
   "version": "3.9.0"
  }
 },
 "nbformat": 4,
 "nbformat_minor": 5
}
