{
 "cells": [
  {
   "cell_type": "code",
   "execution_count": null,
   "id": "c7ceedf9",
   "metadata": {},
   "outputs": [],
   "source": [
    "# Import the necessary modules\n",
    "from selenium import webdriver\n",
    "from selenium.webdriver.common.by import By\n",
    "import pandas as pd\n",
    "import time"
   ]
  },
  {
   "cell_type": "code",
   "execution_count": null,
   "id": "1aac4acc",
   "metadata": {},
   "outputs": [],
   "source": [
    "# Declaring the platform names, subcatagories, base url, etc to scrape all the required directories\n",
    "base_url = 'https://www.metacritic.com/browse/games/title/'\n",
    "platforms = [ \n",
    "    'ps4',\n",
    "    'xboxone',\n",
    "    'switch',\n",
    "    'pc',\n",
    "    'wii-u',\n",
    "    '3ds',\n",
    "    'vita',\n",
    "    'ios'\n",
    "]\n",
    "characters = [\n",
    "    ' ','a', 'b', 'c', 'd', 'e', 'f', 'g',\n",
    "    'h', 'i', 'j', 'k', 'l', 'm', 'n', 'o',\n",
    "    'p', 'q', 'r', 's', 't', 'u', 'v', 'w',\n",
    "    'x', 'y', 'z'\n",
    "]\n",
    "all_data = {}\n",
    "# Go up a directory\n",
    "%cd .."
   ]
  },
  {
   "cell_type": "code",
   "execution_count": null,
   "id": "aed07403",
   "metadata": {},
   "outputs": [],
   "source": [
    "# The function that scrapes the data\n",
    "def get_data(driver,platform,char):\n",
    "    link = base_url+platform+'/'+char\n",
    "    page_num = 0\n",
    "    character_data = []\n",
    "    while True:\n",
    "        driver.get(link+'?page='+str(page_num))\n",
    "        try:\n",
    "            table = driver.find_element(By.CLASS_NAME,'product_condensed')\n",
    "            print('At Page = ', driver.current_url)\n",
    "            titles = table.find_elements(By.TAG_NAME,'a')\n",
    "            for title in titles:\n",
    "                #print(title.text)\n",
    "                #print(title.get_attribute('href'))\n",
    "                character_data.append({\n",
    "                    'title' : title.text,\n",
    "                    'url' : title.get_attribute('href'),\n",
    "                })\n",
    "            page_num = page_num + 1\n",
    "        except:\n",
    "            print(f'Done with {char} of {platform}')\n",
    "            return character_data"
   ]
  },
  {
   "cell_type": "code",
   "execution_count": null,
   "id": "d161b901",
   "metadata": {},
   "outputs": [],
   "source": [
    "# Check if the folder exists, if not create it\n",
    "if not os.path.exists(\"ddatasets/split_url_data\"):\n",
    "    os.makedirs(\"datasets/split_url_data\")"
   ]
  },
  {
   "cell_type": "code",
   "execution_count": null,
   "id": "93f0f251",
   "metadata": {},
   "outputs": [],
   "source": [
    "# Initialize the webdriver for scraping\n",
    "driver = webdriver.Firefox()\n",
    "driver.get('https://www.metacritic.com')"
   ]
  },
  {
   "cell_type": "code",
   "execution_count": null,
   "id": "75fd3ffd",
   "metadata": {},
   "outputs": [],
   "source": [
    "# Loop through the variables of the urls to get all the datas and save them\n",
    "for platform in platforms:\n",
    "    for char in characters:\n",
    "        character_data = get_data(driver,platform,char)\n",
    "        if character_data:\n",
    "            df = pd.DataFrame(data=character_data, columns=character_data[0].keys())\n",
    "            df.to_csv(f\"datasets/split_url_data/{platform}_{char}_data.csv\", index=False)"
   ]
  }
 ],
 "metadata": {
  "kernelspec": {
   "display_name": "Python 3 (ipykernel)",
   "language": "python",
   "name": "python3"
  },
  "language_info": {
   "codemirror_mode": {
    "name": "ipython",
    "version": 3
   },
   "file_extension": ".py",
   "mimetype": "text/x-python",
   "name": "python",
   "nbconvert_exporter": "python",
   "pygments_lexer": "ipython3",
   "version": "3.9.0"
  }
 },
 "nbformat": 4,
 "nbformat_minor": 5
}
