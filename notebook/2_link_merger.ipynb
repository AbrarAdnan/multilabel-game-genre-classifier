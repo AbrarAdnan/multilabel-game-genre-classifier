{
 "cells": [
  {
   "cell_type": "code",
   "execution_count": null,
   "id": "b8181c3d",
   "metadata": {},
   "outputs": [],
   "source": [
    "# Import the libraries\n",
    "from selenium import webdriver\n",
    "from selenium.webdriver.common.by import By\n",
    "import pandas as pd\n",
    "import time,os\n",
    "from tqdm import tqdm_notebook"
   ]
  },
  {
   "cell_type": "code",
   "execution_count": null,
   "id": "d5a18222",
   "metadata": {},
   "outputs": [],
   "source": [
    "# Declate the platform names\n",
    "platforms = [ \n",
    "    'ps4',\n",
    "    'xboxone',\n",
    "    'switch',\n",
    "    'pc',\n",
    "    'wii-u',\n",
    "    '3ds',\n",
    "    'vita',\n",
    "    'ios'\n",
    "]\n",
    "\n",
    "# define the folder path\n",
    "folder = \"datasets/split_url_data\"\n",
    "# Go up a directory\n",
    "%cd .."
   ]
  },
  {
   "cell_type": "code",
   "execution_count": null,
   "id": "51e4a96c",
   "metadata": {},
   "outputs": [],
   "source": [
    "# Check if the folder exists, if not create it\n",
    "if not os.path.exists(\"datasets/platform_url_merged\"):\n",
    "    os.makedirs(\"datasets/platform_url_merged\")"
   ]
  },
  {
   "cell_type": "code",
   "execution_count": null,
   "id": "e923ba83",
   "metadata": {},
   "outputs": [],
   "source": [
    "# Merges the csv files of each platform\n",
    "def merge_csv_files(name):\n",
    "    matching_files = [f for f in os.listdir(folder) if f.startswith(name) and f.endswith('.csv')]\n",
    "    df_list = [pd.read_csv(os.path.join(folder, f)) for f in matching_files]\n",
    "    merged_df = pd.concat(df_list)\n",
    "    merged_df.to_csv(f\"datasets/platform_url_merged/{name}_merged.csv\", index=False)\n",
    "    print(f'Done with {name}')"
   ]
  },
  {
   "cell_type": "code",
   "execution_count": null,
   "id": "ba433659",
   "metadata": {},
   "outputs": [],
   "source": [
    "for name in platforms:\n",
    "    merge_csv_files(name)"
   ]
  },
  {
   "cell_type": "code",
   "execution_count": null,
   "id": "5578b2f9",
   "metadata": {},
   "outputs": [],
   "source": [
    "# Merge all the links of different platforms into a single file\n",
    "def merge_all_csv_files(folder_path, merged_file_name):\n",
    "    # Get all csv files in the folder\n",
    "    csv_files = [f for f in os.listdir(folder_path) if f.endswith('.csv')]\n",
    "    # Read each csv file and store it in a list\n",
    "    df_list = [pd.read_csv(os.path.join(folder_path, f)) for f in csv_files]\n",
    "    # Concatenate all the dataframes in the list\n",
    "    merged_df = pd.concat(df_list)\n",
    "    # Save the merged dataframe to a new csv file\n",
    "    merged_df.to_csv(f\"datasets/{merged_file_name}.csv\", index=False)\n",
    "    print(f\"All csv files in the folder have been merged and saved as {merged_file_name}.csv\")"
   ]
  },
  {
   "cell_type": "code",
   "execution_count": null,
   "id": "941a1cc0",
   "metadata": {},
   "outputs": [],
   "source": [
    "folder_path = 'datasets/split_url_data'\n",
    "merged_file_name = 'merged_urls'\n",
    "merge_all_csv_files(folder_path, merged_file_name)"
   ]
  },
  {
   "cell_type": "code",
   "execution_count": null,
   "id": "96dcac01",
   "metadata": {},
   "outputs": [],
   "source": []
  }
 ],
 "metadata": {
  "kernelspec": {
   "display_name": "Python 3 (ipykernel)",
   "language": "python",
   "name": "python3"
  },
  "language_info": {
   "codemirror_mode": {
    "name": "ipython",
    "version": 3
   },
   "file_extension": ".py",
   "mimetype": "text/x-python",
   "name": "python",
   "nbconvert_exporter": "python",
   "pygments_lexer": "ipython3",
   "version": "3.9.0"
  }
 },
 "nbformat": 4,
 "nbformat_minor": 5
}
