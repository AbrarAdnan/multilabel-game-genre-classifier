{
 "cells": [
  {
   "cell_type": "code",
   "execution_count": 1,
   "id": "c7a0d1d4",
   "metadata": {},
   "outputs": [],
   "source": [
    "import os\n",
    "import pandas as pd"
   ]
  },
  {
   "cell_type": "code",
   "execution_count": 2,
   "id": "548af8ea",
   "metadata": {},
   "outputs": [],
   "source": [
    "df_list = pd.read_csv('datasets/merged_dataset.csv')"
   ]
  },
  {
   "cell_type": "code",
   "execution_count": 3,
   "id": "253757fb",
   "metadata": {},
   "outputs": [
    {
     "data": {
      "text/plain": [
       "<bound method NDFrame.describe of                                           title      genre  \\\n",
       "0                                   SoulCalibur     action   \n",
       "1                            Super Mario Galaxy     action   \n",
       "2                          Super Mario Galaxy 2     action   \n",
       "3                                  Perfect Dark     action   \n",
       "4                                 Metroid Prime     action   \n",
       "...                                         ...        ...   \n",
       "35217                          ECW Anarchy Rulz  wrestling   \n",
       "35218                    The Simpsons Wrestling  wrestling   \n",
       "35219  Mucha Lucha! Mascaritas of the Lost Code  wrestling   \n",
       "35220                   Hulk Hogan's Main Event  wrestling   \n",
       "35221                   Legends of Wrestling II  wrestling   \n",
       "\n",
       "                                                     url  \\\n",
       "0      https://www.metacritic.com/game/dreamcast/soul...   \n",
       "1      https://www.metacritic.com/game/wii/super-mari...   \n",
       "2      https://www.metacritic.com/game/wii/super-mari...   \n",
       "3      https://www.metacritic.com/game/nintendo-64/pe...   \n",
       "4      https://www.metacritic.com/game/gamecube/metro...   \n",
       "...                                                  ...   \n",
       "35217  https://www.metacritic.com/game/dreamcast/ecw-...   \n",
       "35218  https://www.metacritic.com/game/playstation/th...   \n",
       "35219  https://www.metacritic.com/game/game-boy-advan...   \n",
       "35220  https://www.metacritic.com/game/xbox-360/hulk-...   \n",
       "35221  https://www.metacritic.com/game/game-boy-advan...   \n",
       "\n",
       "                                                 summary  \n",
       "0      This is a tale of souls and swords, transcendi...  \n",
       "1      [Metacritic's 2007 Wii Game of the Year] The u...  \n",
       "2      Super Mario Galaxy 2, the sequel to the galaxy...  \n",
       "3      Step into the Dark... As Carrington Institute'...  \n",
       "4      Samus returns in a new mission to unravel the ...  \n",
       "...                                                  ...  \n",
       "35217  Anarchy in the USA! *All new control system! *...  \n",
       "35218  In the end, wit and charm are the two most red...  \n",
       "35219  Mucha Lucha! Mascaritas of the Lost Code is a ...  \n",
       "35220  It’s all about the show in the first motion-ba...  \n",
       "35221  Legends of Wrestling II takes you through the ...  \n",
       "\n",
       "[35222 rows x 4 columns]>"
      ]
     },
     "execution_count": 3,
     "metadata": {},
     "output_type": "execute_result"
    }
   ],
   "source": [
    "df_list.describe"
   ]
  },
  {
   "cell_type": "code",
   "execution_count": 4,
   "id": "7454aa97",
   "metadata": {},
   "outputs": [],
   "source": [
    "merged_df = df_list.drop_duplicates(subset='title')"
   ]
  },
  {
   "cell_type": "code",
   "execution_count": 5,
   "id": "64b1a389",
   "metadata": {},
   "outputs": [
    {
     "data": {
      "text/plain": [
       "<bound method NDFrame.describe of                               title     genre  \\\n",
       "0                       SoulCalibur    action   \n",
       "1                Super Mario Galaxy    action   \n",
       "2              Super Mario Galaxy 2    action   \n",
       "3                      Perfect Dark    action   \n",
       "4                     Metroid Prime    action   \n",
       "...                             ...       ...   \n",
       "32738         Interstellar Trader 2  strategy   \n",
       "32739  Big Oil: Build an Oil Empire  strategy   \n",
       "32740                   Dino Master  strategy   \n",
       "32745                The Apprentice  strategy   \n",
       "32746                Beauty Factory  strategy   \n",
       "\n",
       "                                                     url  \\\n",
       "0      https://www.metacritic.com/game/dreamcast/soul...   \n",
       "1      https://www.metacritic.com/game/wii/super-mari...   \n",
       "2      https://www.metacritic.com/game/wii/super-mari...   \n",
       "3      https://www.metacritic.com/game/nintendo-64/pe...   \n",
       "4      https://www.metacritic.com/game/gamecube/metro...   \n",
       "...                                                  ...   \n",
       "32738  https://www.metacritic.com/game/pc/interstella...   \n",
       "32739  https://www.metacritic.com/game/pc/big-oil-bui...   \n",
       "32740     https://www.metacritic.com/game/ds/dino-master   \n",
       "32745  https://www.metacritic.com/game/pc/the-apprentice   \n",
       "32746  https://www.metacritic.com/game/pc/beauty-factory   \n",
       "\n",
       "                                                 summary  \n",
       "0      This is a tale of souls and swords, transcendi...  \n",
       "1      [Metacritic's 2007 Wii Game of the Year] The u...  \n",
       "2      Super Mario Galaxy 2, the sequel to the galaxy...  \n",
       "3      Step into the Dark... As Carrington Institute'...  \n",
       "4      Samus returns in a new mission to unravel the ...  \n",
       "...                                                  ...  \n",
       "32738  The sequel to the original strategy/simulation...  \n",
       "32739  Big Oil leads you into times of the oil indust...  \n",
       "32740  Dino Master: Dig Discover Duel thrusts you int...  \n",
       "32745  The Apprentice video game immerses players int...  \n",
       "32746  Become the CEO of a beauty products company. F...  \n",
       "\n",
       "[16694 rows x 4 columns]>"
      ]
     },
     "execution_count": 5,
     "metadata": {},
     "output_type": "execute_result"
    }
   ],
   "source": [
    "merged_df.describe"
   ]
  },
  {
   "cell_type": "code",
   "execution_count": null,
   "id": "7bad7753",
   "metadata": {},
   "outputs": [],
   "source": []
  }
 ],
 "metadata": {
  "kernelspec": {
   "display_name": "Python 3 (ipykernel)",
   "language": "python",
   "name": "python3"
  },
  "language_info": {
   "codemirror_mode": {
    "name": "ipython",
    "version": 3
   },
   "file_extension": ".py",
   "mimetype": "text/x-python",
   "name": "python",
   "nbconvert_exporter": "python",
   "pygments_lexer": "ipython3",
   "version": "3.9.0"
  }
 },
 "nbformat": 4,
 "nbformat_minor": 5
}
