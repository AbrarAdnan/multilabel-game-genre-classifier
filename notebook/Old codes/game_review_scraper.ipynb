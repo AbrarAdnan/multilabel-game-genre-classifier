{
 "cells": [
  {
   "cell_type": "code",
   "execution_count": 183,
   "id": "f6cadacf",
   "metadata": {},
   "outputs": [],
   "source": [
    "from selenium import webdriver\n",
    "from selenium.webdriver.common.by import By\n",
    "import pandas as pd\n",
    "import time"
   ]
  },
  {
   "cell_type": "code",
   "execution_count": 184,
   "id": "94ca4def",
   "metadata": {},
   "outputs": [],
   "source": [
    "links = {\n",
    "    'https://www.metacritic.com/browse/games/genre/metascore/action/all?view=detailed' : 'action',\n",
    "    'https://www.metacritic.com/browse/games/genre/metascore/adventure/all?view=detailed' : 'adventure',\n",
    "    'https://www.metacritic.com/browse/games/genre/metascore/fighting/all?view=detailed' : 'fighting',\n",
    "    'https://www.metacritic.com/browse/games/genre/metascore/first-person/all?view=detailed' : 'first-person',\n",
    "    'https://www.metacritic.com/browse/games/genre/metascore/flight/all?view=detailed' : 'flight',\n",
    "    'https://www.metacritic.com/browse/games/genre/metascore/party/all?view=detailed' : 'party',\n",
    "    'https://www.metacritic.com/browse/games/genre/metascore/platformer/all?view=detailed' : 'platformer',\n",
    "    'https://www.metacritic.com/browse/games/genre/metascore/puzzle/all?view=detailed' : 'puzzle',\n",
    "    'https://www.metacritic.com/browse/games/genre/metascore/racing/all?view=detailed' : 'racing',\n",
    "    'https://www.metacritic.com/browse/games/genre/metascore/real-time/all?view=detailed' : 'real-time',\n",
    "    'https://www.metacritic.com/browse/games/genre/metascore/role-playing/all?view=detailed' : 'role-playing',\n",
    "    'https://www.metacritic.com/browse/games/genre/metascore/simulation/all?view=detailed' : 'simulation',\n",
    "    'https://www.metacritic.com/browse/games/genre/metascore/sports/all?view=detailed' : 'sports',\n",
    "    'https://www.metacritic.com/browse/games/genre/metascore/strategy/all?view=detailed' : 'strategy',\n",
    "    'https://www.metacritic.com/browse/games/genre/metascore/third-person/all?view=detailed' : 'third-person',\n",
    "    'https://www.metacritic.com/browse/games/genre/metascore/turn-based/all?view=detailed' : 'turn-based',\n",
    "    'https://www.metacritic.com/browse/games/genre/metascore/wargame/all?view=detailed' : 'wargame',\n",
    "    'https://www.metacritic.com/browse/games/genre/metascore/wrestling/all?view=detailed' : 'wrestling',\n",
    "        }\n",
    "css_selectors = ['div.browse_list_wrapper:nth-child(3)',\n",
    "                 'div.browse_list_wrapper:nth-child(5)',\n",
    "                 'div.browse_list_wrapper:nth-child(7)',\n",
    "                 'div.browse_list_wrapper:nth-child(9)'\n",
    "                ]\n"
   ]
  },
  {
   "cell_type": "code",
   "execution_count": 201,
   "id": "a3b11d45",
   "metadata": {},
   "outputs": [],
   "source": [
    "def get_data(driver,genre):\n",
    "    review_data = []\n",
    "    while True:\n",
    "        print('At Page = ', driver.current_url)\n",
    "        for css in css_selectors:\n",
    "            review_table = driver.find_element(By.CSS_SELECTOR,css)\n",
    "            summaries = review_table.find_elements(By.CLASS_NAME,'clamp-summary-wrap')\n",
    "            for i in summaries:\n",
    "                summary = i.find_element(By.CLASS_NAME,'summary')\n",
    "                title = i.find_elements(By.CLASS_NAME,'title')\n",
    "                #print(title[1].text)\n",
    "                #print('summary')\n",
    "                #print(summary.text)\n",
    "                #print('link')\n",
    "                link = i.find_elements(By.TAG_NAME,'a')\n",
    "                #print(link[1].get_attribute('href'))\n",
    "                review_data.append({\n",
    "                    'title' : title[1].text,\n",
    "                    'genre' : genre,\n",
    "                    'url' : link[1].get_attribute('href'),\n",
    "                    'summary' : summary.text,\n",
    "                })\n",
    "            df = pd.DataFrame(data=review_data, columns=review_data[0].keys())\n",
    "            df.to_csv(f\"{genre}_game_reviews.csv\", index=False)\n",
    "            \n",
    "        try:\n",
    "            next_button = driver.find_element(By.CSS_SELECTOR,'span.flipper:nth-child(2)')\n",
    "            link_container = next_button.find_element(By.TAG_NAME,'a')\n",
    "            next_page_link = link_container.get_attribute('href')\n",
    "            driver.get(next_page_link)\n",
    "        except:\n",
    "            return"
   ]
  },
  {
   "cell_type": "code",
   "execution_count": 199,
   "id": "4e00f27c",
   "metadata": {},
   "outputs": [
    {
     "name": "stdout",
     "output_type": "stream",
     "text": [
      "At Page =  https://www.metacritic.com/browse/games/genre/metascore/wrestling/all?view=detailed&page=1\n",
      "At Page =  https://www.metacritic.com/browse/games/genre/metascore/puzzle/all?view=detailed&page=1\n",
      "At Page =  https://www.metacritic.com/browse/games/genre/metascore/puzzle/all?view=detailed&page=2\n",
      "At Page =  https://www.metacritic.com/browse/games/genre/metascore/puzzle/all?view=detailed&page=3\n",
      "At Page =  https://www.metacritic.com/browse/games/genre/metascore/puzzle/all?view=detailed&page=4\n",
      "65.79809522628784\n"
     ]
    }
   ],
   "source": [
    "start = time.time()\n",
    "# driver = webdriver.Firefox()\n",
    "options = webdriver.FirefoxOptions()\n",
    "options.headless = True\n",
    "driver = webdriver.Firefox(options=options)\n",
    "for link,genre in links.items():\n",
    "    driver.get(link)\n",
    "    get_data(driver,genre)\n",
    "end = time.time()\n",
    "print(end - start)\n",
    "driver.close()"
   ]
  },
  {
   "cell_type": "code",
   "execution_count": null,
   "id": "96497d4e",
   "metadata": {},
   "outputs": [],
   "source": []
  }
 ],
 "metadata": {
  "kernelspec": {
   "display_name": "Python 3 (ipykernel)",
   "language": "python",
   "name": "python3"
  },
  "language_info": {
   "codemirror_mode": {
    "name": "ipython",
    "version": 3
   },
   "file_extension": ".py",
   "mimetype": "text/x-python",
   "name": "python",
   "nbconvert_exporter": "python",
   "pygments_lexer": "ipython3",
   "version": "3.9.0"
  }
 },
 "nbformat": 4,
 "nbformat_minor": 5
}
