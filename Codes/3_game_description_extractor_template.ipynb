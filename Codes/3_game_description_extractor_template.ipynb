{
 "cells": [
  {
   "cell_type": "code",
   "execution_count": null,
   "id": "5433fbaa",
   "metadata": {},
   "outputs": [],
   "source": [
    "# Import the requrired librarires\n",
    "from selenium import webdriver\n",
    "from selenium.webdriver.common.by import By\n",
    "import pandas as pd\n",
    "import time,os\n",
    "from tqdm import tqdm_notebook"
   ]
  },
  {
   "cell_type": "code",
   "execution_count": null,
   "id": "807719bf",
   "metadata": {},
   "outputs": [],
   "source": [
    "# Enter the file name to get the links from and the file name to save the scraped descriptions\n",
    "# Modify this cell to download from various platforms\n",
    "merged_df = pd.read_csv('datasets/platform_url_merged/switch_merged.csv')\n",
    "save_file_name = 'switch_description_test'\n",
    "# Go up a directory\n",
    "%cd .."
   ]
  },
  {
   "cell_type": "code",
   "execution_count": null,
   "id": "94e97dc1",
   "metadata": {},
   "outputs": [],
   "source": [
    "# Have a peek at the source file\n",
    "merged_df = merged_df.head(10)\n",
    "merged_df"
   ]
  },
  {
   "cell_type": "code",
   "execution_count": null,
   "id": "3740fb2a",
   "metadata": {},
   "outputs": [],
   "source": [
    "# Funciton to scrape the details from each link\n",
    "def get_data(driver,title,url):\n",
    "    driver.get(url)\n",
    "    try:\n",
    "        name = driver.find_element(By.CSS_SELECTOR,'div.product_title > a:nth-child(1) > h1:nth-child(1)')\n",
    "        title = name.text\n",
    "    except:\n",
    "        title = 'N/A'\n",
    "    try:\n",
    "        toggle = driver.find_element(By.CSS_SELECTOR,'.product_summary > span:nth-child(2) > span:nth-child(1) > span:nth-child(4)')\n",
    "        if toggle.text == \"Expand\":\n",
    "            toggle.click()\n",
    "    except:\n",
    "        pass\n",
    "    try:\n",
    "        summary = driver.find_element(By.CSS_SELECTOR,'.product_summary > span:nth-child(2) > span:nth-child(1) > span:nth-child(2)')\n",
    "        description = summary.text\n",
    "    except:\n",
    "        try:\n",
    "            summary = driver.find_element(By.CSS_SELECTOR,'.product_summary > span:nth-child(2) > span:nth-child(1)')\n",
    "            description = summary.text\n",
    "        except:\n",
    "            description = 'N/A'\n",
    "    try:\n",
    "        genre_list = driver.find_element(By.CSS_SELECTOR,'.product_genre')\n",
    "        genre = genre_list.text\n",
    "    except:\n",
    "        genre = 'N/A'\n",
    "    return title,description,genre\n"
   ]
  },
  {
   "cell_type": "code",
   "execution_count": null,
   "id": "bbc6e5af",
   "metadata": {},
   "outputs": [],
   "source": [
    "# driver = webdriver.Firefox()\n",
    "# Initialize the webdriver headlessly for faster scraping\n",
    "options = webdriver.FirefoxOptions()\n",
    "options.headless = True\n",
    "driver = webdriver.Firefox(options=options)\n",
    "driver.get('https://www.metacritic.com/game/xbox-one/ea-sports-ufc')"
   ]
  },
  {
   "cell_type": "code",
   "execution_count": null,
   "id": "5686967a",
   "metadata": {},
   "outputs": [],
   "source": [
    "# Check to see if any previous file has been saved to continue from there\n",
    "start_index = 0\n",
    "platform_data = []\n",
    "try:\n",
    "    # Try to read the previously saved csv file\n",
    "    df = pd.read_csv(f\"datasets/platform_description_merged/{save_file_name}.csv\")\n",
    "    # Get the index of the last row\n",
    "    start_index = df.index[-1] + 1\n",
    "    platform_data = df.to_dict('records')\n",
    "except FileNotFoundError:\n",
    "    # If the file doesn't exist, start from the first row\n",
    "    start_index = 0\n",
    "\n",
    "print('starting from index = ' + str(start_index))"
   ]
  },
  {
   "cell_type": "code",
   "execution_count": null,
   "id": "639de321",
   "metadata": {},
   "outputs": [],
   "source": [
    "# Start the scraping\n",
    "start = time.time()\n",
    "# iterate through all the rows\n",
    "for index, row in tqdm_notebook(merged_df.iloc[start_index:].iterrows(), total=merged_df.shape[0] - start_index):\n",
    "    url = row['url']\n",
    "    title = row['title']\n",
    "    # do your processing with the URL\n",
    "    title, description, genre = get_data(driver,title,url)\n",
    "    platform_data.append({\n",
    "        'title': title,\n",
    "        'description': description,\n",
    "        'genres': genre\n",
    "    })\n",
    "\n",
    "    # Save the data to the csv file after each iteration\n",
    "    df = pd.DataFrame(data=platform_data, columns=platform_data[0].keys())\n",
    "    df.to_csv(f\"datasets/platform_description_merged/{save_file_name}.csv\", index=False)\n",
    "\n",
    "end = time.time()\n",
    "print(end - start)\n",
    "driver.close()"
   ]
  }
 ],
 "metadata": {
  "kernelspec": {
   "display_name": "Python 3 (ipykernel)",
   "language": "python",
   "name": "python3"
  },
  "language_info": {
   "codemirror_mode": {
    "name": "ipython",
    "version": 3
   },
   "file_extension": ".py",
   "mimetype": "text/x-python",
   "name": "python",
   "nbconvert_exporter": "python",
   "pygments_lexer": "ipython3",
   "version": "3.9.0"
  }
 },
 "nbformat": 4,
 "nbformat_minor": 5
}
