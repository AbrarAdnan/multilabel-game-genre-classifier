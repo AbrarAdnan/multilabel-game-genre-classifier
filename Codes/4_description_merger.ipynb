{
 "cells": [
  {
   "cell_type": "code",
   "execution_count": 2,
   "id": "b155f9e3",
   "metadata": {},
   "outputs": [],
   "source": [
    "# Import the libraries\n",
    "from selenium import webdriver\n",
    "from selenium.webdriver.common.by import By\n",
    "import pandas as pd\n",
    "import time,os\n",
    "from tqdm import tqdm_notebook"
   ]
  },
  {
   "cell_type": "code",
   "execution_count": 3,
   "id": "5ee52e6c",
   "metadata": {},
   "outputs": [],
   "source": [
    "# Merge all the descriptions of different platforms into a single file\n",
    "def merge_all_csv_files(folder_path, merged_file_name):\n",
    "    # Get all csv files in the folder\n",
    "    csv_files = [f for f in os.listdir(folder_path) if f.endswith('.csv')]\n",
    "    # Read each csv file and store it in a list\n",
    "    df_list = [pd.read_csv(os.path.join(folder_path, f)) for f in csv_files]\n",
    "    # Concatenate all the dataframes in the list\n",
    "    merged_df = pd.concat(df_list)\n",
    "    # Save the merged dataframe to a new csv file\n",
    "    merged_df.to_csv(f\"datasets/{merged_file_name}.csv\", index=False)\n",
    "    print(f\"All csv files in the folder have been merged and saved as {merged_file_name}.csv\")"
   ]
  },
  {
   "cell_type": "code",
   "execution_count": 5,
   "id": "aaab0294",
   "metadata": {},
   "outputs": [
    {
     "name": "stdout",
     "output_type": "stream",
     "text": [
      "All csv files in the folder have been merged and saved as merged_descriptions.csv\n"
     ]
    }
   ],
   "source": [
    "%cd ..\n",
    "folder_path = 'datasets/platform_description_merged'\n",
    "merged_file_name = 'merged_descriptions'\n",
    "merge_all_csv_files(folder_path, merged_file_name)"
   ]
  },
  {
   "cell_type": "code",
   "execution_count": null,
   "id": "9ac8de95",
   "metadata": {},
   "outputs": [],
   "source": []
  }
 ],
 "metadata": {
  "kernelspec": {
   "display_name": "Python 3 (ipykernel)",
   "language": "python",
   "name": "python3"
  },
  "language_info": {
   "codemirror_mode": {
    "name": "ipython",
    "version": 3
   },
   "file_extension": ".py",
   "mimetype": "text/x-python",
   "name": "python",
   "nbconvert_exporter": "python",
   "pygments_lexer": "ipython3",
   "version": "3.9.0"
  }
 },
 "nbformat": 4,
 "nbformat_minor": 5
}
